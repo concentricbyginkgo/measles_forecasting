{
 "cells": [
  {
   "cell_type": "code",
   "execution_count": 1,
   "id": "d7328843-3512-44a8-838e-eb0d951f4b6a",
   "metadata": {},
   "outputs": [
    {
     "name": "stderr",
     "output_type": "stream",
     "text": [
      "/Users/ameadows/python_projects/measleseasles/venv/lib/python3.13/site-packages/lightning_fabric/__init__.py:29: UserWarning: pkg_resources is deprecated as an API. See https://setuptools.pypa.io/en/latest/pkg_resources.html. The pkg_resources package is slated for removal as early as 2025-11-30. Refrain from using this package or pin to Setuptools<81.\n",
      "  __import__(\"pkg_resources\").declare_namespace(__name__)\n",
      "Importing plotly failed. Interactive plots will not work.\n",
      "Importing plotly failed. Interactive plots will not work.\n"
     ]
    }
   ],
   "source": [
    "import os\n",
    "\n",
    "import pandas as pd\n",
    "import numpy as np\n",
    "\n",
    "from matplotlib import pyplot as plt\n",
    "from IPython import display\n",
    "from datetime import datetime\n",
    "from IPython.display import clear_output\n",
    "\n",
    "import MeaslesDataLoader as md\n",
    "import MeaslesModelEval as mm\n",
    "import EpiPreprocessor as ep\n",
    "\n",
    "from xgboost import XGBRegressor\n",
    "\n",
    "\n",
    "%matplotlib inline"
   ]
  },
  {
   "cell_type": "code",
   "execution_count": 2,
   "id": "58759445-5604-4a50-8e58-80fb2771f362",
   "metadata": {},
   "outputs": [],
   "source": [
    "defaultConfigURL = 'https://docs.google.com/spreadsheets/d/1zn0e2-hi-p9hcOWiMk03v4TH_zq64BfD9pUgbAf1uRs/edit?usp=sharing'\n",
    "preprocessorConfig = ep.getGoogleSheetConfig(defaultConfigURL)"
   ]
  },
  {
   "cell_type": "code",
   "execution_count": 3,
   "id": "96b03f9f-8186-46d1-89a9-eba096a55a3b",
   "metadata": {},
   "outputs": [],
   "source": [
    "runsDf = pd.read_csv('input/beta_run_specs.csv')"
   ]
  },
  {
   "cell_type": "code",
   "execution_count": 4,
   "id": "74e8c924-6de8-4ad0-a981-6d92fb498583",
   "metadata": {},
   "outputs": [
    {
     "name": "stdout",
     "output_type": "stream",
     "text": [
      "194/194 included countries found with noted outbreaks.\n"
     ]
    },
    {
     "data": {
      "text/plain": [
       "Timestamp('2023-08-01 00:00:00')"
      ]
     },
     "execution_count": 4,
     "metadata": {},
     "output_type": "execute_result"
    }
   ],
   "source": [
    "mm.preppedCountries = md.prepData(defaultLoc = 'input/processed_measles_model_data.csv',\n",
    "                               cutoffsCol = 'cutoff_date')\n",
    "mm.preppedCountries['cutoffs']['NGA']"
   ]
  },
  {
   "cell_type": "code",
   "execution_count": 5,
   "id": "26f3cf9c-3e06-401e-8295-cc2d4c0dcaa5",
   "metadata": {},
   "outputs": [],
   "source": [
    "randomSeeds = [1337 * i for i in range(25)]\n",
    "#geographies = runsDf.ID.unique().tolist() + ['cluster:2']\n",
    "geographies = runsDf.ID.unique().tolist()\n",
    "fuzzReplicates = [0, 10]\n",
    "ensembleModels = ['diverse low n']\n",
    "ensembleModels = [[], 'diverse', 'diverse low n', 'boosted alpha']\n",
    "\n",
    "\n",
    "\n",
    "indepVars = {'incoming_air_passengers': 0,\n",
    "             'mean_precip_mm_per_day': 3,\n",
    "             'mean_max_temp': 3}\n",
    "\n",
    "baseModel = {'modelName': 'XGBRegressor','model':XGBRegressor}"
   ]
  },
  {
   "cell_type": "code",
   "execution_count": 8,
   "id": "86cab77c-3ced-47e7-8539-d27459349efb",
   "metadata": {},
   "outputs": [],
   "source": [
    "genericRun = mm.sklGeneric(countries = ['PAK'],              # Single string - now works!\n",
    "                           depVar = 'cases_1M',\n",
    "                           modelArgs = baseModel,\n",
    "                           randomState = 2371,\n",
    "                           indepVars = indepVars,\n",
    "                           fuzzReplicates = 0,\n",
    "                           ensembleModels = [],\n",
    "                           preprocessor = preprocessorConfig,\n",
    "                           metaRow = 1,            \n",
    "                           prefix = 'test_run')\n",
    "genericRun.train()\n",
    "results = genericRun.evaluate()"
   ]
  },
  {
   "cell_type": "code",
   "execution_count": 6,
   "id": "8ea94cfa-4019-4e4f-9e05-135f3e79841e",
   "metadata": {},
   "outputs": [
    {
     "data": {
      "text/html": [
       "<div>\n",
       "<style scoped>\n",
       "    .dataframe tbody tr th:only-of-type {\n",
       "        vertical-align: middle;\n",
       "    }\n",
       "\n",
       "    .dataframe tbody tr th {\n",
       "        vertical-align: top;\n",
       "    }\n",
       "\n",
       "    .dataframe thead th {\n",
       "        text-align: right;\n",
       "    }\n",
       "</style>\n",
       "<table border=\"1\" class=\"dataframe\">\n",
       "  <thead>\n",
       "    <tr style=\"text-align: right;\">\n",
       "      <th></th>\n",
       "      <th>ds</th>\n",
       "      <th>incoming_air_passengers</th>\n",
       "      <th>mean_precip_mm_per_day</th>\n",
       "      <th>mean_max_temp</th>\n",
       "    </tr>\n",
       "  </thead>\n",
       "  <tbody>\n",
       "    <tr>\n",
       "      <th>0</th>\n",
       "      <td>2011-01-01</td>\n",
       "      <td>11117</td>\n",
       "      <td>0.055000</td>\n",
       "      <td>30.603861</td>\n",
       "    </tr>\n",
       "    <tr>\n",
       "      <th>1</th>\n",
       "      <td>2011-02-01</td>\n",
       "      <td>10069</td>\n",
       "      <td>1.418750</td>\n",
       "      <td>34.094880</td>\n",
       "    </tr>\n",
       "    <tr>\n",
       "      <th>2</th>\n",
       "      <td>2011-03-01</td>\n",
       "      <td>10534</td>\n",
       "      <td>1.046250</td>\n",
       "      <td>36.016330</td>\n",
       "    </tr>\n",
       "    <tr>\n",
       "      <th>3</th>\n",
       "      <td>2011-04-01</td>\n",
       "      <td>10125</td>\n",
       "      <td>1.724545</td>\n",
       "      <td>35.258125</td>\n",
       "    </tr>\n",
       "    <tr>\n",
       "      <th>4</th>\n",
       "      <td>2011-05-01</td>\n",
       "      <td>10563</td>\n",
       "      <td>3.845455</td>\n",
       "      <td>33.956328</td>\n",
       "    </tr>\n",
       "    <tr>\n",
       "      <th>...</th>\n",
       "      <td>...</td>\n",
       "      <td>...</td>\n",
       "      <td>...</td>\n",
       "      <td>...</td>\n",
       "    </tr>\n",
       "    <tr>\n",
       "      <th>160</th>\n",
       "      <td>2024-05-01</td>\n",
       "      <td>10563</td>\n",
       "      <td>3.853000</td>\n",
       "      <td>36.453083</td>\n",
       "    </tr>\n",
       "    <tr>\n",
       "      <th>161</th>\n",
       "      <td>2024-06-01</td>\n",
       "      <td>10374</td>\n",
       "      <td>8.380000</td>\n",
       "      <td>32.937260</td>\n",
       "    </tr>\n",
       "    <tr>\n",
       "      <th>162</th>\n",
       "      <td>2024-07-01</td>\n",
       "      <td>10380</td>\n",
       "      <td>13.479091</td>\n",
       "      <td>30.375189</td>\n",
       "    </tr>\n",
       "    <tr>\n",
       "      <th>163</th>\n",
       "      <td>2024-08-01</td>\n",
       "      <td>10698</td>\n",
       "      <td>8.330000</td>\n",
       "      <td>29.378009</td>\n",
       "    </tr>\n",
       "    <tr>\n",
       "      <th>164</th>\n",
       "      <td>2024-09-01</td>\n",
       "      <td>9712</td>\n",
       "      <td>6.470000</td>\n",
       "      <td>31.054677</td>\n",
       "    </tr>\n",
       "  </tbody>\n",
       "</table>\n",
       "<p>165 rows × 4 columns</p>\n",
       "</div>"
      ],
      "text/plain": [
       "            ds  incoming_air_passengers  mean_precip_mm_per_day  mean_max_temp\n",
       "0   2011-01-01                    11117                0.055000      30.603861\n",
       "1   2011-02-01                    10069                1.418750      34.094880\n",
       "2   2011-03-01                    10534                1.046250      36.016330\n",
       "3   2011-04-01                    10125                1.724545      35.258125\n",
       "4   2011-05-01                    10563                3.845455      33.956328\n",
       "..         ...                      ...                     ...            ...\n",
       "160 2024-05-01                    10563                3.853000      36.453083\n",
       "161 2024-06-01                    10374                8.380000      32.937260\n",
       "162 2024-07-01                    10380               13.479091      30.375189\n",
       "163 2024-08-01                    10698                8.330000      29.378009\n",
       "164 2024-09-01                     9712                6.470000      31.054677\n",
       "\n",
       "[165 rows x 4 columns]"
      ]
     },
     "execution_count": 6,
     "metadata": {},
     "output_type": "execute_result"
    }
   ],
   "source": [
    "mm.preppedCountries['curves']['NGA'][['ds'] + list(indepVars.keys())]"
   ]
  },
  {
   "cell_type": "code",
   "execution_count": null,
   "id": "cd39e07e-c9f9-43ec-b141-b1c115b1de8f",
   "metadata": {},
   "outputs": [
    {
     "name": "stdout",
     "output_type": "stream",
     "text": [
      "6685 LKA 0 []\n",
      "6685 LKA 0 diverse\n"
     ]
    },
    {
     "name": "stderr",
     "output_type": "stream",
     "text": [
      "WARNING - (py.warnings._showwarnmsg) - /home/jschlitt/miniforge3/envs/bmgf/lib/python3.10/site-packages/sklearn/svm/_base.py:1235: ConvergenceWarning: Liblinear failed to converge, increase the number of iterations.\n",
      "  warnings.warn(\n",
      "\n",
      "WARNING - (py.warnings._showwarnmsg) - /home/jschlitt/miniforge3/envs/bmgf/lib/python3.10/site-packages/sklearn/svm/_base.py:1235: ConvergenceWarning: Liblinear failed to converge, increase the number of iterations.\n",
      "  warnings.warn(\n",
      "\n",
      "WARNING - (py.warnings._showwarnmsg) - /home/jschlitt/miniforge3/envs/bmgf/lib/python3.10/site-packages/sklearn/svm/_base.py:1235: ConvergenceWarning: Liblinear failed to converge, increase the number of iterations.\n",
      "  warnings.warn(\n",
      "\n",
      "WARNING - (py.warnings._showwarnmsg) - /home/jschlitt/miniforge3/envs/bmgf/lib/python3.10/site-packages/sklearn/svm/_base.py:1235: ConvergenceWarning: Liblinear failed to converge, increase the number of iterations.\n",
      "  warnings.warn(\n",
      "\n",
      "WARNING - (py.warnings._showwarnmsg) - /home/jschlitt/miniforge3/envs/bmgf/lib/python3.10/site-packages/sklearn/svm/_base.py:1235: ConvergenceWarning: Liblinear failed to converge, increase the number of iterations.\n",
      "  warnings.warn(\n",
      "\n",
      "WARNING - (py.warnings._showwarnmsg) - /home/jschlitt/miniforge3/envs/bmgf/lib/python3.10/site-packages/sklearn/svm/_base.py:1235: ConvergenceWarning: Liblinear failed to converge, increase the number of iterations.\n",
      "  warnings.warn(\n",
      "\n"
     ]
    },
    {
     "name": "stdout",
     "output_type": "stream",
     "text": [
      "6685 LKA 0 diverse low n\n",
      "6685 LKA 0 boosted alpha\n"
     ]
    }
   ],
   "source": [
    "collectedResults = []\n",
    "for randomSeed in randomSeeds:\n",
    "    for geography in geographies:\n",
    "        clear_output()\n",
    "        for fuzzN in fuzzReplicates:\n",
    "            for ensembleModel in ensembleModels:\n",
    "                print(randomSeed,geography,fuzzN,ensembleModel)\n",
    "                try:\n",
    "                    genericRun = mm.sklGeneric(geography,\n",
    "                                               'cases_1M',\n",
    "                                               modelArgs = baseModel,\n",
    "                                               randomState = randomSeed,\n",
    "                                               indepVars = indepVars,\n",
    "                                               fuzzReplicates = fuzzN,\n",
    "                                               ensembleModels = ensembleModel)\n",
    "                    \n",
    "                    metaFileRef = f'output/beta_methods_eval/{genericRun.hash}_Summary.csv'\n",
    "                    if not os.path.exists(metaFileRef):\n",
    "                        try:\n",
    "                            genericRun.train()\n",
    "                            results = genericRun.evaluate()\n",
    "                            results['run time'] = datetime.now().strftime('%y-%m-%d %H:%M:%S')\n",
    "                            mm.exportTables(genericRun, directory = 'output/beta_methods_eval')\n",
    "                            collectedResults.append(results)\n",
    "                        except:\n",
    "                            print(\"Run fails at fitting\")\n",
    "                            pass\n",
    "                    else:\n",
    "                        results = pd.read_csv(metaFileRef)\n",
    "                        collectedResults.append(results)\n",
    "                except:\n",
    "                    print(\"Run fails at initialization\")\n",
    "\n",
    "\n",
    "\n"
   ]
  },
  {
   "cell_type": "code",
   "execution_count": 8,
   "id": "54dd996f-b144-44da-82c3-b08db70353a7",
   "metadata": {},
   "outputs": [],
   "source": [
    "pd.concat(collectedResults).to_csv('BetaMetaData.csv')\n",
    "! zip -r beta_eval.zip output/beta_methods_eval"
   ]
  },
  {
   "cell_type": "code",
   "execution_count": 1,
   "id": "87f53d8f-9567-4fc1-b5de-8cb9f661b452",
   "metadata": {},
   "outputs": [],
   "source": [
    "#! rm -rf output/beta_methods_eval/*.csv"
   ]
  },
  {
   "cell_type": "code",
   "execution_count": 7,
   "id": "f88be4af-e996-49e1-be36-b6087c7456ac",
   "metadata": {},
   "outputs": [],
   "source": [
    "mergedExperiments.to_csv('output/Merged_Beta_Comparison.csv')"
   ]
  },
  {
   "cell_type": "code",
   "execution_count": 14,
   "id": "36e4d016-a7aa-4081-8cb0-c6b55fce64ea",
   "metadata": {},
   "outputs": [
    {
     "name": "stdout",
     "output_type": "stream",
     "text": [
      "Unnamed: 0                                                               LSO\n",
      "Test MSE                                                            0.383067\n",
      "Test MAE                                                            0.347695\n",
      "Test R2                                                            -0.300928\n",
      "Train MSE                                                           0.000147\n",
      "Train MAE                                                           0.006183\n",
      "Train R2                                                            0.999994\n",
      "Sensitivity                                                              NaN\n",
      "Specificity                                                              1.0\n",
      "F1 Score                                                                 NaN\n",
      "True positives                                                             0\n",
      "True negatives                                                             9\n",
      "False positives                                                            0\n",
      "False negatives                                                            0\n",
      "method                                    Scikit-learn generic: XGBRegressor\n",
      "predictor projection                                                 AutoETS\n",
      "depVar                                                              cases_1M\n",
      "withheld                                                                  22\n",
      "random state                                                            8022\n",
      "model args                 {'modelName': 'XGBRegressor', 'model': <class ...\n",
      "fuzz replicates                                                           10\n",
      "fuzz std                                                                0.01\n",
      "incoming_air_passengers                                                    3\n",
      "mean_max_temp                                                              3\n",
      "mean_precip_mm_per_day                                                     3\n",
      "initial country count                                                      1\n",
      "runnable country count                                                     1\n",
      "run time                                                   25-05-28 23:41:58\n",
      "ID_BFA                                                                   NaN\n",
      "ID_BGD                                                                   NaN\n",
      "ID_BOL                                                                   NaN\n",
      "ID_BRA                                                                   NaN\n",
      "ID_BWA                                                                   NaN\n",
      "ID_COL                                                                   NaN\n",
      "ID_DOM                                                                   NaN\n",
      "ID_DZA                                                                   NaN\n",
      "ID_EGY                                                                   NaN\n",
      "ID_ERI                                                                   NaN\n",
      "ID_GHA                                                                   NaN\n",
      "ID_GUY                                                                   NaN\n",
      "ID_IRQ                                                                   NaN\n",
      "ID_JOR                                                                   NaN\n",
      "ID_KEN                                                                   NaN\n",
      "ID_KHM                                                                   NaN\n",
      "ID_LAO                                                                   NaN\n",
      "ID_LBY                                                                   NaN\n",
      "ID_LKA                                                                   NaN\n",
      "ID_LSO                                                                   NaN\n",
      "ID_MMR                                                                   NaN\n",
      "ID_MOZ                                                                   NaN\n",
      "Name: 0, dtype: object\n"
     ]
    }
   ],
   "source": [
    "print(mergedExperiments.iloc[200][:50])"
   ]
  },
  {
   "cell_type": "code",
   "execution_count": null,
   "id": "9b0175a1-26da-4f95-bf4c-9b0fb41d7595",
   "metadata": {},
   "outputs": [],
   "source": []
  }
 ],
 "metadata": {
  "kernelspec": {
   "display_name": "Measles Project",
   "language": "python",
   "name": "measleseasles"
  },
  "language_info": {
   "codemirror_mode": {
    "name": "ipython",
    "version": 3
   },
   "file_extension": ".py",
   "mimetype": "text/x-python",
   "name": "python",
   "nbconvert_exporter": "python",
   "pygments_lexer": "ipython3",
   "version": "3.13.3"
  }
 },
 "nbformat": 4,
 "nbformat_minor": 5
}
