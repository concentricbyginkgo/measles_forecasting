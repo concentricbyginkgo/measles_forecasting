{
 "cells": [
  {
   "cell_type": "markdown",
   "id": "5efab941-8276-4ec0-b011-5c11f57ed2ff",
   "metadata": {},
   "source": [
    "# Final Model Projections\n",
    "* This notebook utilizes abstracted classes from **MeaslesModelEval.py** to project future measles cases for each selected country using selected, wrapped ML models and predictor variables.\n",
    "* Each model is initialized by model class to predict the variable `cases_1M` using a country-specific model object and dictionary of independent variables with their associated predictor lags.\n",
    "* Scikit-learn and scikit-learn styled models are passed via the **sklGeneric** class, allowing interoperability across model architectures within the pipeline.\n",
    "  "
   ]
  },
  {
   "cell_type": "markdown",
   "id": "f8eea990-fa9a-4c01-a576-e7a10ac90bab",
   "metadata": {},
   "source": [
    "## Methods and globals"
   ]
  },
  {
   "cell_type": "code",
   "execution_count": 2,
   "id": "a402a40a-f2a0-46a8-8201-f885387df977",
   "metadata": {},
   "outputs": [],
   "source": [
    "import pandas as pd\n",
    "import numpy as np\n",
    "import os\n",
    "\n",
    "from matplotlib import pyplot as plt\n",
    "from ast import literal_eval\n",
    "\n",
    "import MeaslesDataLoader as md\n",
    "import MeaslesModelEval as mm\n",
    "import EpiPreprocessor as ep\n",
    "\n",
    "import importlib\n",
    "from pprint import pprint\n",
    "from IPython.display import clear_output\n",
    "\n",
    "%matplotlib inline"
   ]
  },
  {
   "cell_type": "code",
   "execution_count": 3,
   "id": "6a2d1cc4-37cc-46e9-9fbc-8685e9a366ed",
   "metadata": {},
   "outputs": [],
   "source": [
    "from catboost import CatBoostRegressor\n",
    "from sklearn.ensemble import BaggingRegressor\n",
    "from xgboost.sklearn import XGBRegressor\n",
    "from sklearn.ensemble import GradientBoostingRegressor\n",
    "from sklearn.ensemble import RandomForestRegressor"
   ]
  },
  {
   "cell_type": "markdown",
   "id": "777b83c4-ccab-4457-8452-093dfc212ecf",
   "metadata": {},
   "source": [
    "## Load / refresh local preprocessor config\n",
    "* The **EpiPreprocessor.py** preprocessor module enables a standardized set of preproccessor transformations to be applied to any data set fed to a training run.\n",
    "* Preprocessor configs may be stored as either publicly available google sheets, local csv files, or web accessible csv files.\n",
    "* When any preprocessor config is loaded, a copy is saved to *input/TempConfig.csv*.\n",
    "* Each model defaults to *input/TempConfig.csv* if no preprocessor location is passed.\n",
    "* In practice, you need only load the remote config once after each remote change.\n",
    "* Each preprocessor method is applied in space separated, left to right order."
   ]
  },
  {
   "cell_type": "code",
   "execution_count": 4,
   "id": "1c7e8b70-c17a-4e26-af81-f46248c99197",
   "metadata": {},
   "outputs": [],
   "source": [
    "defaultConfigURL = 'https://docs.google.com/spreadsheets/d/1zn0e2-hi-p9hcOWiMk03v4TH_zq64BfD9pUgbAf1uRs/edit?usp=sharing'\n",
    "preprocessorConfig = ep.getGoogleSheetConfig(defaultConfigURL)"
   ]
  },
  {
   "cell_type": "markdown",
   "id": "a37358fc-c310-473d-9341-746e0ad99ee5",
   "metadata": {},
   "source": [
    "## Preprocessor data structure & usage:\n",
    "* Preprocessor arguments are stored as a list of operations by input data columns.\n",
    "* For each simulation run, preprocessors are only applied for variables which are found and used, so extensive sets may be passed without issue.\n",
    "* Data with no preprocessor routine assigned will be passed unchanged, though one may also assign a routine of \"pass_unchanged\" for clarity.\n",
    "* In cases where a user desires to pass additional preprocessor arguments for a single model run, one may assign a properly formatted dictionary to the variable **additionalPrep** when initializing a run.\n",
    "* Preprocessor arguments passed via **additionalPrep** will be executed after operations present in the primary preprocessor config."
   ]
  },
  {
   "cell_type": "code",
   "execution_count": 5,
   "id": "665efa67-f5e0-49c6-9ced-0b46953d1e38",
   "metadata": {},
   "outputs": [
    {
     "name": "stdout",
     "output_type": "stream",
     "text": [
      "{'MCV1': [\"check_coverage_{'proportion':.5}\",\n",
      "          'january_only',\n",
      "          'interpolate_via_linear',\n",
      "          'forward_fill',\n",
      "          'back_fill'],\n",
      " 'MCV2': ['january_only',\n",
      "          'interpolate_via_linear',\n",
      "          'forward_fill',\n",
      "          'back_fill'],\n",
      " 'birth_per_1k': ['january_only', 'divide_by_12', 'interpolate_via_linear'],\n",
      " 'cases': [\"check_coverage_{'proportion':.3}\",\n",
      "           \"check_gaps_{'tail':12,'length':6}\",\n",
      "           'back_truncate',\n",
      "           'forward_truncate',\n",
      "           'interpolate_via_cubic',\n",
      "           'zero_min'],\n",
      " 'cases_1M': ['back_truncate',\n",
      "              'forward_truncate',\n",
      "              'interpolate_via_cubic',\n",
      "              'zero_min'],\n",
      " 'cases_1M_12z': ['back_truncate',\n",
      "                  'forward_truncate',\n",
      "                  'interpolate_via_cubic',\n",
      "                  'zero_min'],\n",
      " 'cases_1M_36z': ['back_truncate',\n",
      "                  'forward_truncate',\n",
      "                  'interpolate_via_cubic',\n",
      "                  'zero_min'],\n",
      " 'cases_1M_60z': ['back_truncate',\n",
      "                  'forward_truncate',\n",
      "                  'interpolate_via_cubic',\n",
      "                  'zero_min'],\n",
      " 'incoming_air_passengers': ['back_truncate'],\n",
      " 'mean_precip_mm_per_day': ['back_truncate',\n",
      "                            'forward_truncate',\n",
      "                            'interpolate_via_cubic',\n",
      "                            'zero_min'],\n",
      " 'mean_temp': ['interpolate_via_cubic'],\n",
      " 'migrations_per_1k': ['january_only',\n",
      "                       'divide_by_12',\n",
      "                       'interpolate_via_linear'],\n",
      " 'mnths_since_SIA': ['back_truncate'],\n",
      " 'mnths_since_outbreak_20_cuml_per_M': ['back_truncate'],\n",
      " 'mnths_since_outbreak_20_per_M': ['back_truncate'],\n",
      " 'outgoing_air_passengers': ['back_truncate'],\n",
      " 'prop_prev_rolling_12_mnths_outbreak_5M': ['back_truncate'],\n",
      " 'prop_prev_rolling_24_mnths_outbreak_5M': ['back_truncate'],\n",
      " 'prop_prev_rolling_60_mnths_outbreak_5M': ['back_truncate']}\n"
     ]
    }
   ],
   "source": [
    "selectedData = pd.read_csv('input/validation_trimmed_measles_dat.csv').columns.tolist()\n",
    "pprint({key:preprocessorConfig[key] for key in selectedData if key in preprocessorConfig.keys()})"
   ]
  },
  {
   "cell_type": "markdown",
   "id": "85aaad4d-77b8-4b24-8e2b-c6ad36fbdd89",
   "metadata": {},
   "source": [
    "## Initial data load\n",
    "* All data loading and formatting is standardized by the module **MeaslesDataLoader.py**.\n",
    "* The data loader will check expected file locations by default, though alternate files may be passed as an argument.\n",
    "* The md5 hash of each input data file loaded is printed to console for review.\n",
    "* The data loader expects prepared case and predictor data to be placed in *input/processed_measles_model_data.csv.'*\n",
    "* The data loader expects cutoffs data to be placed in *input/cutoff_date_by_country.csv*, but will ignore cutoffs if not found.\n",
    "* A Google trends csv is also expected at *input/CountryMeasles2010-2024.csv*, though ignored if not found."
   ]
  },
  {
   "cell_type": "code",
   "execution_count": 6,
   "id": "b32e302a-da83-4362-b3e9-231a411a71a0",
   "metadata": {
    "editable": true,
    "slideshow": {
     "slide_type": ""
    },
    "tags": []
   },
   "outputs": [
    {
     "name": "stdout",
     "output_type": "stream",
     "text": [
      "Loading file: input/processed_measles_model_data.csv\t\tmd5 hash: 87debfb5aa6e19d4411783d6a4738658\n",
      "Loading file: input/CountryMeasles2010-2024.csv\t\tmd5 hash: 0c8f9fccaaacea58302f999664765272\n",
      "193/193 included countries found with noted outbreaks.\n",
      "Loading file: input/cutoff_date_by_country.csv\t\tmd5 hash: 38aa0096783cc543d612aed114be5fa5\n"
     ]
    }
   ],
   "source": [
    "mm.preppedCountries = md.prepData('input/processed_measles_model_data.csv',\n",
    "                                  cutoffsLoc = 'input/cutoff_date_by_country.csv')"
   ]
  },
  {
   "cell_type": "markdown",
   "id": "fa9f745e-e0ac-4631-b533-8b4ab384d154",
   "metadata": {},
   "source": [
    "# Model execution\n",
    "The following script utilizes a selection of predictors and models that were found to work best for each country with a significant outbreak history. They do not represent the entire functionality of the underlying modelling pipeline.\n",
    "\n",
    "\n",
    "## Initialization\n",
    "* Initializing a model prepares the underlying data structures, applies preprocessing routines, constructs the train/test sets, and discards missing or single-value variables.\n",
    "\n",
    "#### Syntax\n",
    "\n",
    "```python\n",
    "run = mm.sklGeneric(args)\n",
    "```\n",
    "\n",
    "### Required Inputs\n",
    "\n",
    "* **country** *(str)* — ISO3 code for the country within **preppedCountries**, OR a group identifier for a categorical grouping found in the raw data (e.g., `\"cluster:1\"`).  \n",
    "* **depVar** *(str)* — Dependent variable column to be forecasted from **preppedCountries**.  \n",
    "* **indepVars** *{str: int}* — Dictionary mapping predictor variable column names to lag periods.  \n",
    "* **modelArgs** *{str: module}* — Dictionary with a model name and loaded ML library, following scikit-learn conventions. Used only for the **SKL Generic** class.  \n",
    "* **monthsForward** *(int)* — Number of months to project beyond the input data. Triggers forward projection. Defaults to `0`.\n",
    "\n",
    "### Optional Inputs\n",
    "\n",
    "* **additionalPrep** *{str: [str, ...]}* — Dictionary of additional preprocessing routines to apply.  \n",
    "* **binaryLabelMetric** *(lambda)* — Function used to assign binary labels to predicted incidence for boolean stats. Defaults to `lambda x: x >= 2`.  \n",
    "* **ensembleEstimator** *(str)* — Name of an scikit-learn estimator used for combining ensemble models. Options include `\"ridgeCV\"`, `\"ridge\"`, `\"elastic net\"`, `\"MLP\"`, and `\"SVR\"`. Defaults to `\"ridgeCV\"`.  \n",
    "* **ensembleModels** *(str | list)* — Triggers the use of ensembles within the **sklGeneric** class. Preconfigured ensembles include `\"diverse\"` and `\"boosted heavy\"`.  \n",
    "* **ensemblePassthrough** *(bool)* — Toggles passthrough to an ensembling model. Defaults to `True`.  \n",
    "* **fuzzReplicates** *(int)* — Number of fuzzed input data replicates generated during training. Defaults to `0`.  \n",
    "* **fuzzStd** *(float)* — Multiplier for independent variable standard deviations when generating fuzzed replicates. Defaults to `0.01`.  \n",
    "* **initialized** *(bool)* — Flags whether a passed model has already been initialized. Defaults to `False`.  \n",
    "* **missingVarResponse** *(str)* — Method for handling missing predictors in multi-country runs. Defaults to `\"drop country\"`.  \n",
    "* **preprocessor** *(str)* — Path or URL to a preprocessor config. Defaults to the last loaded config at `\"input/tempConfig.csv\"`.  \n",
    "* **projectionMethod** *(str)* — Method for forward projection of predictor variables. Defaults to `\"AutoETS\"`.  \n",
    "* **randomState** *(int)* — Random seed passed to ML models. Defaults to `1337`.  \n",
    "* **testSize** *(int)* — Number of months withheld as the test set (at the end of a country’s records) for **depVar**.  \n",
    "* **testStatsWindow** *(int)* — Number of months within the withheld data used for calculating test statistics. Defaults to `9`.  \n",
    "* **useCache** *(bool)* — Toggles caching of predictor projections and ML fits. Defaults to `False`.\n",
    "\n",
    "\n",
    "## Training\n",
    "\n",
    "* Training a model fits the dependent variable on the training set and projects the dependent variable over both the training and test sets.  \n",
    "* Predictor variables are forward-projected using the method specified in **projectionMethod**, and cached.  \n",
    "* Each training run is uniquely identified by an MD5 hash of its arguments and data, stored as **run.hash**.  \n",
    "* Successfully trained models are cached in memory and saved as Python pickles at:  \n",
    "  ```\n",
    "  store/{run.hash}Trained.pkl\n",
    "  ```  \n",
    "* When training is attempted, the module first looks for a cached model for the given run and will load it if available.  \n",
    "* **Note:** Changes to external libraries (**NeuralProphet, Pandas, scikit-learn**, etc.) or to model mechanics may cause pickles to load incorrectly or misrepresent results. Periodically clear the `store/` directory after such changes.\n",
    "\n",
    "#### Syntax\n",
    "\n",
    "```python\n",
    "run.train()\n",
    "```\n",
    "\n",
    "## Evaluation\n",
    "\n",
    "* The **evaluate** method uses scikit-learn metrics to calculate a suite of metrics including **R²**, **MAE**, and **MSE** for the trained model against both the train and test sets respectively.  \n",
    "* Results are returned as a pandas dataframe. \n",
    "* Additionally, users may plot any trained run with the **plotTTS** method from **MeaslesModelEval**.\n",
    "\n",
    "#### Syntax\n",
    "\n",
    "```python\n",
    "run.evaluate()\n",
    "```\n",
    "\n"
   ]
  },
  {
   "cell_type": "markdown",
   "id": "fd4c8eb4-35cf-478c-9656-063aa5c900bc",
   "metadata": {},
   "source": [
    "## Scikit-learn generic regression wrapper class\n",
    "* The **sklGeneric** method enables a user to pass any pythonic ML model that follows a **model.init(randomSeed), model.train(numpy array), model.predict(numpy array)**.\n",
    "* Care should be taken to assign unique names to the **modelName** passed to **modelArgs** as this is used in run hashing."
   ]
  },
  {
   "cell_type": "markdown",
   "id": "efdad020-2bff-4601-adbd-142a3c7dcc21",
   "metadata": {},
   "source": [
    "# Model run specification loading:\n",
    "* Here a csv is loaded detailing countries, predictor sets, and selected ML models for each country.\n",
    "* Environmental predictors are declared with a three month lag that will be used across all countries.\n",
    "* A dictionary of `modelArgs` is prepared to access the specified module for each country."
   ]
  },
  {
   "cell_type": "code",
   "execution_count": 7,
   "id": "ad0ef59f-f26b-4358-820c-d161ce14e1db",
   "metadata": {},
   "outputs": [],
   "source": [
    "finalStage1Specs = pd.read_csv('input/top_final_model_stage1.csv')\n",
    "finalStage1Specs.predictor = finalStage1Specs.predictor.apply(literal_eval)\n",
    "finalStage1Specs.tail()\n",
    "\n",
    "environmentalVars = {'mean_temp':3,\n",
    "                     'mean_precip_mm_per_day':3}\n",
    "\n",
    "models = {'CatBoost':{'model': CatBoostRegressor, 'modelName': 'CatBoostRegressor'},\n",
    "          'Bagging regressor':{'model': BaggingRegressor, 'modelName': 'BaggingRegressor'},\n",
    "          'XGBRegressor':{'model': XGBRegressor, 'modelName': 'XGBRegressor'},\n",
    "          'gradient boosting':{'model': GradientBoostingRegressor, 'modelName': 'GradientBoostingRegressor'},\n",
    "          'Random Forest':{'model': RandomForestRegressor, 'modelName': 'RandomForestRegressor'}}"
   ]
  },
  {
   "cell_type": "markdown",
   "id": "f00860ea-bacf-40a0-9a3f-2b9a6c09bf0b",
   "metadata": {},
   "source": [
    "# Final projection loop"
   ]
  },
  {
   "cell_type": "code",
   "execution_count": 8,
   "id": "4d0ffe50-6435-4496-8d37-a96bf1ed280e",
   "metadata": {},
   "outputs": [
    {
     "data": {
      "image/png": "[encoded data removed]",
      "text/plain": [
       "<Figure size 640x480 with 1 Axes>"
      ]
     },
     "metadata": {},
     "output_type": "display_data"
    }
   ],
   "source": [
    "outDir = 'output/final_projections_stage_1'\n",
    "if not os.path.exists(outDir):\n",
    "    os.mkdir(outDir)\n",
    "\n",
    "collectedMetadata = []\n",
    "for index, row in finalStage1Specs.iterrows():\n",
    "    yHats = []\n",
    "    for rep in range(25):\n",
    "\n",
    "        # Prepare the indepVars object\n",
    "        indepVars = row['predictor']\n",
    "        indepVars = indepVars | environmentalVars\n",
    "        randomSeed = 1337*rep\n",
    "\n",
    "        # Initialize the run\n",
    "        genericRun = mm.sklGeneric(row['country'],\n",
    "                                   'cases_1M',\n",
    "                                   indepVars = indepVars,\n",
    "                                   modelArgs = models[row['model']],\n",
    "                                   monthsForward = 24,\n",
    "                                   randomState = randomSeed)\n",
    "\n",
    "        # Train the model\n",
    "        genericRun.train()\n",
    "        clear_output()\n",
    "\n",
    "        # Generate output data and figs\n",
    "        runStats = genericRun.evaluate().iloc[0]\n",
    "        country = row['country']\n",
    "        runHash = genericRun.hash\n",
    "        fileOut = f'{outDir}/{runHash}.csv'\n",
    "        figOut = f'{outDir}/{country}.png'\n",
    "        figCol = f'yhat1_r{rep}'\n",
    "        yHats.append(figCol)\n",
    "\n",
    "        outputDf = genericRun.trained['plotDfs'][country].copy(deep=True)\n",
    "        plotDf = outputDf.rename({'yhat1':figCol},axis=1).copy(deep=True)\n",
    "        if rep == 0:\n",
    "            figDf = plotDf\n",
    "        else:\n",
    "            figDf = figDf.merge(plotDf)\n",
    "            \n",
    "        outputDf.to_csv(fileOut)\n",
    "        repData = {'hash':runHash,\n",
    "                   'csv':fileOut,\n",
    "                   'fig':figOut,\n",
    "                   'randomSeed':randomSeed,\n",
    "                   'replicate':rep}\n",
    "        \n",
    "        runMetadata = dict(row) | dict(runStats) | repData\n",
    "        collectedMetadata.append(runMetadata)\n",
    "\n",
    "    nHats = len(yHats)\n",
    "    colors = ['red'] + nHats * ['blue']\n",
    "    fig,ax = plt.subplots()\n",
    "    figDf.plot(x='ds',\n",
    "               y = 'y', \n",
    "               c = 'red',\n",
    "               ax = ax,\n",
    "               legend = False)\n",
    "    figDf.plot(x='ds',\n",
    "               y = yHats, \n",
    "               alpha = .7/len(yHats),\n",
    "               c = 'blue',\n",
    "               ax = ax,\n",
    "               legend = False)\n",
    "    \n",
    "    plt.legend = False\n",
    "    plt.title(f'{country} Projection')\n",
    "    plt.ylabel('Cases Per Million')\n",
    "    plt.savefig(figOut)\n",
    "    plt.show()\n",
    "\n",
    "\n",
    "runLog = pd.DataFrame(collectedMetadata)\n",
    "runLog.to_csv(f'{outDir}/RunMetaData.csv')"
   ]
  }
 ],
 "metadata": {
  "kernelspec": {
   "display_name": "Python (bmgf)",
   "language": "python",
   "name": "bmgf"
  },
  "language_info": {
   "codemirror_mode": {
    "name": "ipython",
    "version": 3
   },
   "file_extension": ".py",
   "mimetype": "text/x-python",
   "name": "python",
   "nbconvert_exporter": "python",
   "pygments_lexer": "ipython3",
   "version": "3.10.15"
  }
 },
 "nbformat": 4,
 "nbformat_minor": 5
}
