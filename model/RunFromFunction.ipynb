{
 "cells": [
  {
   "cell_type": "code",
   "execution_count": 1,
   "id": "0691fdbb-9706-4c03-8a5e-0556306c476f",
   "metadata": {},
   "outputs": [
    {
     "name": "stderr",
     "output_type": "stream",
     "text": [
      "/Users/ameadows/python_projects/measleseasles/venv/lib/python3.13/site-packages/lightning_fabric/__init__.py:29: UserWarning: pkg_resources is deprecated as an API. See https://setuptools.pypa.io/en/latest/pkg_resources.html. The pkg_resources package is slated for removal as early as 2025-11-30. Refrain from using this package or pin to Setuptools<81.\n",
      "  __import__(\"pkg_resources\").declare_namespace(__name__)\n",
      "Importing plotly failed. Interactive plots will not work.\n",
      "Importing plotly failed. Interactive plots will not work.\n"
     ]
    },
    {
     "name": "stdout",
     "output_type": "stream",
     "text": [
      "download: s3://metabiota-modeling-internal/BMGF_measles/model_input/processed_measles_model_data_20250903.csv to input/processed_measles_model_data.csv\n",
      "193/193 included countries found with noted outbreaks.\n"
     ]
    }
   ],
   "source": [
    "import json\n",
    "import os\n",
    "import pandas as pd\n",
    "import numpy as np\n",
    "import multiprocess as mp\n",
    "\n",
    "from matplotlib import pyplot as plt\n",
    "from IPython.display import clear_output\n",
    "from random import seed, shuffle, randint\n",
    "from time import sleep\n",
    "import fitOne as fi\n",
    "import random"
   ]
  },
  {
   "cell_type": "code",
   "execution_count": 5,
   "id": "c70c4035-68ba-476f-8761-53d346076307",
   "metadata": {},
   "outputs": [
    {
     "name": "stdout",
     "output_type": "stream",
     "text": [
      "download: s3://metabiota-modeling-internal/BMGF_measles/model_input/final_model_selection_cutoffs.csv to input/cutoff_date_by_country.csv\n"
     ]
    },
    {
     "data": {
      "text/html": [
       "<div>\n",
       "<style scoped>\n",
       "    .dataframe tbody tr th:only-of-type {\n",
       "        vertical-align: middle;\n",
       "    }\n",
       "\n",
       "    .dataframe tbody tr th {\n",
       "        vertical-align: top;\n",
       "    }\n",
       "\n",
       "    .dataframe thead th {\n",
       "        text-align: right;\n",
       "    }\n",
       "</style>\n",
       "<table border=\"1\" class=\"dataframe\">\n",
       "  <thead>\n",
       "    <tr style=\"text-align: right;\">\n",
       "      <th></th>\n",
       "      <th>MODEL_ID</th>\n",
       "      <th>country</th>\n",
       "      <th>predictor</th>\n",
       "      <th>num_predictors</th>\n",
       "      <th>environmentalArg</th>\n",
       "      <th>model</th>\n",
       "      <th>Rep</th>\n",
       "      <th>ROW_ID</th>\n",
       "      <th>Seed</th>\n",
       "    </tr>\n",
       "  </thead>\n",
       "  <tbody>\n",
       "    <tr>\n",
       "      <th>0</th>\n",
       "      <td>32639ee53b29</td>\n",
       "      <td>cluster:1</td>\n",
       "      <td>{'MCV1': 0}</td>\n",
       "      <td>1</td>\n",
       "      <td>{'mean_temp': 3, 'mean_precip_mm_per_day': 3}</td>\n",
       "      <td>boosted heavy</td>\n",
       "      <td>1</td>\n",
       "      <td>1</td>\n",
       "      <td>1247970</td>\n",
       "    </tr>\n",
       "    <tr>\n",
       "      <th>1</th>\n",
       "      <td>bb0058696979</td>\n",
       "      <td>cluster:1</td>\n",
       "      <td>{'MCV1': 0}</td>\n",
       "      <td>1</td>\n",
       "      <td>{'mean_temp': 3, 'mean_precip_mm_per_day': 3}</td>\n",
       "      <td>boosted heavy</td>\n",
       "      <td>2</td>\n",
       "      <td>2</td>\n",
       "      <td>1205489</td>\n",
       "    </tr>\n",
       "    <tr>\n",
       "      <th>2</th>\n",
       "      <td>bb0058696979</td>\n",
       "      <td>cluster:1</td>\n",
       "      <td>{'MCV1': 0}</td>\n",
       "      <td>1</td>\n",
       "      <td>{'mean_temp': 3, 'mean_precip_mm_per_day': 3}</td>\n",
       "      <td>boosted heavy</td>\n",
       "      <td>3</td>\n",
       "      <td>3</td>\n",
       "      <td>310146</td>\n",
       "    </tr>\n",
       "    <tr>\n",
       "      <th>3</th>\n",
       "      <td>bb0058696979</td>\n",
       "      <td>cluster:1</td>\n",
       "      <td>{'MCV1': 0}</td>\n",
       "      <td>1</td>\n",
       "      <td>{'mean_temp': 3, 'mean_precip_mm_per_day': 3}</td>\n",
       "      <td>boosted heavy</td>\n",
       "      <td>4</td>\n",
       "      <td>4</td>\n",
       "      <td>1065826</td>\n",
       "    </tr>\n",
       "    <tr>\n",
       "      <th>4</th>\n",
       "      <td>bb0058696979</td>\n",
       "      <td>cluster:1</td>\n",
       "      <td>{'MCV1': 0}</td>\n",
       "      <td>1</td>\n",
       "      <td>{'mean_temp': 3, 'mean_precip_mm_per_day': 3}</td>\n",
       "      <td>boosted heavy</td>\n",
       "      <td>5</td>\n",
       "      <td>5</td>\n",
       "      <td>291112</td>\n",
       "    </tr>\n",
       "  </tbody>\n",
       "</table>\n",
       "</div>"
      ],
      "text/plain": [
       "       MODEL_ID    country    predictor  num_predictors  \\\n",
       "0  32639ee53b29  cluster:1  {'MCV1': 0}               1   \n",
       "1  bb0058696979  cluster:1  {'MCV1': 0}               1   \n",
       "2  bb0058696979  cluster:1  {'MCV1': 0}               1   \n",
       "3  bb0058696979  cluster:1  {'MCV1': 0}               1   \n",
       "4  bb0058696979  cluster:1  {'MCV1': 0}               1   \n",
       "\n",
       "                                environmentalArg          model  Rep  ROW_ID  \\\n",
       "0  {'mean_temp': 3, 'mean_precip_mm_per_day': 3}  boosted heavy    1       1   \n",
       "1  {'mean_temp': 3, 'mean_precip_mm_per_day': 3}  boosted heavy    2       2   \n",
       "2  {'mean_temp': 3, 'mean_precip_mm_per_day': 3}  boosted heavy    3       3   \n",
       "3  {'mean_temp': 3, 'mean_precip_mm_per_day': 3}  boosted heavy    4       4   \n",
       "4  {'mean_temp': 3, 'mean_precip_mm_per_day': 3}  boosted heavy    5       5   \n",
       "\n",
       "      Seed  \n",
       "0  1247970  \n",
       "1  1205489  \n",
       "2   310146  \n",
       "3  1065826  \n",
       "4   291112  "
      ]
     },
     "execution_count": 5,
     "metadata": {},
     "output_type": "execute_result"
    }
   ],
   "source": [
    "#os.system('aws s3 cp --profile internal s3://metabiota-modeling-internal/BMGF_measles/model_input/final_mod_metadata_20250811.csv ./')\n",
    "#os.system('aws s3 cp --profile internal s3://metabiota-modeling-internal/BMGF_measles/model_input/final_model_selection_cutoffs.csv ./input/cutoff_date_by_country.csv')\n",
    "meta_df = pd.read_csv('ensemble_meta_20250819.csv')\n",
    "#meta_df['model'] = 'boosted alpha'\n",
    "meta_df.head()"
   ]
  },
  {
   "cell_type": "code",
   "execution_count": null,
   "id": "091de57e-4cbf-4ad8-812c-c035b6575e82",
   "metadata": {},
   "outputs": [],
   "source": [
    "#meta_df[meta_df['country']== 'cluster:2']"
   ]
  },
  {
   "cell_type": "code",
   "execution_count": 3,
   "id": "ef0696b6-3660-46c3-b1db-7973298066d5",
   "metadata": {},
   "outputs": [],
   "source": [
    "test_rows = random.sample(range(1, len(meta_df)), 5)\n"
   ]
  },
  {
   "cell_type": "code",
   "execution_count": 6,
   "id": "8889e49a-39cb-4ed7-88b6-077ae3fc925f",
   "metadata": {},
   "outputs": [
    {
     "name": "stdout",
     "output_type": "stream",
     "text": [
      "Processing: Country=cluster:2, Model=boosted heavy, Predictor={'MCV1': 0}\n",
      "IndepVars: {'MCV1': 0}\n",
      "Environmental: {'mean_temp': 3, 'mean_precip_mm_per_day': 3}\n",
      "FuzzReplicates: 0\n",
      "Country type: <class 'str'>, Country value: 'cluster:2'\n",
      "Initializing model...\n",
      "Creating ensemble model with ensembleModels: boosted heavy\n",
      "Dropped [('country', 'EGY', 'Insufficent test data for analysis.'), ('country', 'FSM', 'Insufficient number of unique, valid measurements of the dependent variable.'), ('country', 'SLB', 'Insufficent test data for analysis.'), ('country', 'ECU', 'Insufficient number of unique, valid measurements of the dependent variable.'), ('country', 'SUR', 'Insufficient number of unique, valid measurements of the dependent variable.'), ('country', 'TTO', 'Insufficient number of unique, valid measurements of the dependent variable.'), ('country', 'DMA', 'Insufficient number of unique, valid measurements of the dependent variable.'), ('country', 'ATG', 'Insufficient number of unique, valid measurements of the dependent variable.'), ('country', 'BHS', 'Insufficient number of unique, valid measurements of the dependent variable.'), ('country', 'KNA', 'Insufficient number of unique, valid measurements of the dependent variable.'), ('country', 'VCT', 'Insufficient number of unique, valid measurements of the dependent variable.'), ('country', 'WSM', 'Insufficient number of unique, valid measurements of the dependent variable.'), ('country', 'LCA', 'Insufficient number of unique, valid measurements of the dependent variable.'), ('country', 'TON', 'Insufficient number of unique, valid measurements of the dependent variable.'), ('country', 'MDV', 'Country dropped due to missing var'), ('country', 'SGP', 'Country dropped due to missing var'), ('country', 'MHL', 'Country dropped due to missing var'), ('country', 'NRU', 'Country dropped due to missing var'), ('country', 'NIU', 'Country dropped due to missing var'), ('country', 'PLW', 'Country dropped due to missing var'), ('country', 'TUV', 'Country dropped due to missing var'), ('country', 'BRB', 'Country dropped due to missing var'), ('country', 'GRD', 'Country dropped due to missing var')]\n"
     ]
    },
    {
     "name": "stderr",
     "output_type": "stream",
     "text": [
      "WARNING - (py.warnings._showwarnmsg) - /Users/ameadows/python_projects/measleseasles/venv/lib/python3.13/site-packages/statsforecast/ets.py:1038: RuntimeWarning: divide by zero encountered in scalar divide\n",
      "  sigma2 = np.sum(e**2) / (ny - np_ - 1)\n",
      "\n",
      "WARNING - (py.warnings._showwarnmsg) - /Users/ameadows/python_projects/measleseasles/venv/lib/python3.13/site-packages/statsforecast/ets.py:1038: RuntimeWarning: divide by zero encountered in scalar divide\n",
      "  sigma2 = np.sum(e**2) / (ny - np_ - 1)\n",
      "\n"
     ]
    },
    {
     "name": "stdout",
     "output_type": "stream",
     "text": [
      "Country encoder not found for method: \"Scikit-learn generic: {\"model names\": [\"cat\", \"lgbm\", \"xgb\"], \"stacking model\": \"stacking regressor\", \"final estimator\": \"ridgeCV\", \"passthrough\": true}\", using default\n",
      "Model initialized successfully\n",
      "Training model...\n"
     ]
    },
    {
     "name": "stderr",
     "output_type": "stream",
     "text": [
      "WARNING - (py.warnings._showwarnmsg) - /Users/ameadows/python_projects/measleseasles/venv/lib/python3.13/site-packages/sklearn/utils/validation.py:2739: UserWarning: X does not have valid feature names, but LGBMRegressor was fitted with feature names\n",
      "  warnings.warn(\n",
      "\n",
      "WARNING - (py.warnings._showwarnmsg) - /Users/ameadows/python_projects/measleseasles/venv/lib/python3.13/site-packages/sklearn/utils/validation.py:2739: UserWarning: X does not have valid feature names, but LGBMRegressor was fitted with feature names\n",
      "  warnings.warn(\n",
      "\n",
      "WARNING - (py.warnings._showwarnmsg) - /Users/ameadows/python_projects/measleseasles/venv/lib/python3.13/site-packages/sklearn/utils/validation.py:2739: UserWarning: X does not have valid feature names, but LGBMRegressor was fitted with feature names\n",
      "  warnings.warn(\n",
      "\n",
      "WARNING - (py.warnings._showwarnmsg) - /Users/ameadows/python_projects/measleseasles/venv/lib/python3.13/site-packages/sklearn/utils/validation.py:2739: UserWarning: X does not have valid feature names, but LGBMRegressor was fitted with feature names\n",
      "  warnings.warn(\n",
      "\n",
      "WARNING - (py.warnings._showwarnmsg) - /Users/ameadows/python_projects/measleseasles/venv/lib/python3.13/site-packages/sklearn/utils/validation.py:2739: UserWarning: X does not have valid feature names, but LGBMRegressor was fitted with feature names\n",
      "  warnings.warn(\n",
      "\n",
      "WARNING - (py.warnings._showwarnmsg) - /Users/ameadows/python_projects/measleseasles/venv/lib/python3.13/site-packages/sklearn/utils/validation.py:2739: UserWarning: X does not have valid feature names, but LGBMRegressor was fitted with feature names\n",
      "  warnings.warn(\n",
      "\n"
     ]
    },
    {
     "name": "stdout",
     "output_type": "stream",
     "text": [
      "ERROR: Input X contains NaN.\n",
      "RidgeCV does not accept missing values encoded as NaN natively. For supervised learning, you might want to consider sklearn.ensemble.HistGradientBoostingClassifier and Regressor which accept missing values encoded as NaNs natively. Alternatively, it is possible to preprocess the data, for instance by using an imputer transformer in a pipeline or drop samples with missing values. See https://scikit-learn.org/stable/modules/impute.html You can find a list of all estimators that handle NaN values at the following page: https://scikit-learn.org/stable/modules/impute.html#estimators-that-handle-nan-values\n",
      "Error type: ValueError\n",
      "Traceback: Traceback (most recent call last):\n",
      "  File \"/Users/ameadows/python_projects/measleseasles/fitOne.py\", line 165, in fitOne\n",
      "    mlRun.train()\n",
      "    ~~~~~~~~~~~^^\n",
      "  File \"/Users/ameadows/python_projects/measleseasles/MeaslesModelEval.py\", line 1320, in train\n",
      "    forecast.loc[:,'yhat1'] = model.predict(self.mergedFutures[self.varKeys].values)\n",
      "                              ~~~~~~~~~~~~~^^^^^^^^^^^^^^^^^^^^^^^^^^^^^^^^^^^^^^^^^\n",
      "  File \"/Users/ameadows/python_projects/measleseasles/venv/lib/python3.13/site-packages/sklearn/ensemble/_stacking.py\", line 1164, in predict\n",
      "    y_pred = super().predict(X, **routed_params.final_estimator_[\"predict\"])\n",
      "  File \"/Users/ameadows/python_projects/measleseasles/venv/lib/python3.13/site-packages/sklearn/ensemble/_stacking.py\", line 374, in predict\n",
      "    return self.final_estimator_.predict(self.transform(X), **predict_params)\n",
      "           ~~~~~~~~~~~~~~~~~~~~~~~~~~~~~^^^^^^^^^^^^^^^^^^^^^^^^^^^^^^^^^^^^^\n",
      "  File \"/Users/ameadows/python_projects/measleseasles/venv/lib/python3.13/site-packages/sklearn/linear_model/_base.py\", line 297, in predict\n",
      "    return self._decision_function(X)\n",
      "           ~~~~~~~~~~~~~~~~~~~~~~~^^^\n",
      "  File \"/Users/ameadows/python_projects/measleseasles/venv/lib/python3.13/site-packages/sklearn/linear_model/_base.py\", line 276, in _decision_function\n",
      "    X = validate_data(self, X, accept_sparse=[\"csr\", \"csc\", \"coo\"], reset=False)\n",
      "  File \"/Users/ameadows/python_projects/measleseasles/venv/lib/python3.13/site-packages/sklearn/utils/validation.py\", line 2944, in validate_data\n",
      "    out = check_array(X, input_name=\"X\", **check_params)\n",
      "  File \"/Users/ameadows/python_projects/measleseasles/venv/lib/python3.13/site-packages/sklearn/utils/validation.py\", line 1107, in check_array\n",
      "    _assert_all_finite(\n",
      "    ~~~~~~~~~~~~~~~~~~^\n",
      "        array,\n",
      "        ^^^^^^\n",
      "    ...<2 lines>...\n",
      "        allow_nan=ensure_all_finite == \"allow-nan\",\n",
      "        ^^^^^^^^^^^^^^^^^^^^^^^^^^^^^^^^^^^^^^^^^^^\n",
      "    )\n",
      "    ^\n",
      "  File \"/Users/ameadows/python_projects/measleseasles/venv/lib/python3.13/site-packages/sklearn/utils/validation.py\", line 120, in _assert_all_finite\n",
      "    _assert_all_finite_element_wise(\n",
      "    ~~~~~~~~~~~~~~~~~~~~~~~~~~~~~~~^\n",
      "        X,\n",
      "        ^^\n",
      "    ...<4 lines>...\n",
      "        input_name=input_name,\n",
      "        ^^^^^^^^^^^^^^^^^^^^^^\n",
      "    )\n",
      "    ^\n",
      "  File \"/Users/ameadows/python_projects/measleseasles/venv/lib/python3.13/site-packages/sklearn/utils/validation.py\", line 169, in _assert_all_finite_element_wise\n",
      "    raise ValueError(msg_err)\n",
      "ValueError: Input X contains NaN.\n",
      "RidgeCV does not accept missing values encoded as NaN natively. For supervised learning, you might want to consider sklearn.ensemble.HistGradientBoostingClassifier and Regressor which accept missing values encoded as NaNs natively. Alternatively, it is possible to preprocess the data, for instance by using an imputer transformer in a pipeline or drop samples with missing values. See https://scikit-learn.org/stable/modules/impute.html You can find a list of all estimators that handle NaN values at the following page: https://scikit-learn.org/stable/modules/impute.html#estimators-that-handle-nan-values\n",
      "\n",
      "Error summary saved to output/test_20250904/scores/6781_Summary.csv\n",
      "Local test mode: skipping S3 upload for output/test_20250904/scores/6781_Summary.csv\n"
     ]
    }
   ],
   "source": [
    "test_rows = [6781]\n",
    "for i in test_rows:\n",
    "    fi.fitOne(metadata = meta_df, ROW = i, run_name = 'test_20250904', local_test = True)"
   ]
  },
  {
   "cell_type": "code",
   "execution_count": null,
   "id": "abd7a15f-6124-43cb-b882-75cdd9d4631e",
   "metadata": {},
   "outputs": [],
   "source": []
  }
 ],
 "metadata": {
  "kernelspec": {
   "display_name": "Python 3",
   "language": "python",
   "name": "python3"
  },
  "language_info": {
   "codemirror_mode": {
    "name": "ipython",
    "version": 3
   },
   "file_extension": ".py",
   "mimetype": "text/x-python",
   "name": "python",
   "nbconvert_exporter": "python",
   "pygments_lexer": "ipython3",
   "version": "3.11.12"
  }
 },
 "nbformat": 4,
 "nbformat_minor": 5
}
