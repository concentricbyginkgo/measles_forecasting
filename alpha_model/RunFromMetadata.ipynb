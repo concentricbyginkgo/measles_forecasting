{
 "cells": [
  {
   "cell_type": "code",
   "execution_count": null,
   "id": "8e08e0ac-be54-4967-9378-d83822de68fb",
   "metadata": {},
   "outputs": [],
   "source": [
    "import json\n",
    "import os\n",
    "import pandas as pd\n",
    "import numpy as np\n",
    "import multiprocess as mp\n",
    "import random\n",
    "\n",
    "from matplotlib import pyplot as plt\n",
    "from IPython.display import clear_output\n",
    "from random import seed, shuffle, randint\n",
    "from time import sleep\n",
    "import fitOne as fi"
   ]
  },
  {
   "cell_type": "code",
   "execution_count": null,
   "id": "dd638ce3-5b04-4016-8fdd-6d1a9acb7384",
   "metadata": {},
   "outputs": [],
   "source": [
    "meta_df = pd.read_csv('run_metadata.csv')\n",
    "len(meta_df)"
   ]
  },
  {
   "cell_type": "code",
   "execution_count": null,
   "id": "685eda38-df01-4f30-94f3-dd61800eb12a",
   "metadata": {},
   "outputs": [],
   "source": [
    "# run a few test rows\n",
    "test_rows = random.sample(range(1, len(meta_df), 5) # assumes at least 5 rows; otherwise just specify row id\n",
    "for i in test_rows:\n",
    "    fi.fitOne(metadata = meta_df, ROW = i, run_name = 'sweep_20250106')"
   ]
  },
  {
   "cell_type": "code",
   "execution_count": null,
   "id": "d4420be6-d4d2-416f-aec7-ce059b70ee15",
   "metadata": {},
   "outputs": [],
   "source": [
    "# ...or the entire metadata file\n",
    "for i in 1:len(meta_df):\n",
    "    fi.fitOne(metadata = meta_df, ROW = i, run_name = 'sweep_20250106')"
   ]
  }
 ],
 "metadata": {
  "kernelspec": {
   "display_name": "Python 3.11",
   "language": "python",
   "name": "python311"
  },
  "language_info": {
   "codemirror_mode": {
    "name": "ipython",
    "version": 3
   },
   "file_extension": ".py",
   "mimetype": "text/x-python",
   "name": "python",
   "nbconvert_exporter": "python",
   "pygments_lexer": "ipython3",
   "version": "3.11.10"
  }
 },
 "nbformat": 4,
 "nbformat_minor": 5
}
